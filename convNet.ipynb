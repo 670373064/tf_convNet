{
 "metadata": {
  "name": "",
  "signature": "sha256:0ecf3b3ad97fbf34a1b61b650d0efe5b2b1fdfd5122d1796913f9c942bd95340"
 },
 "nbformat": 3,
 "nbformat_minor": 0,
 "worksheets": [
  {
   "cells": [
    {
     "cell_type": "code",
     "collapsed": false,
     "input": [
      "import tensorflow as tf\n",
      "from my_tf_layer import *\n",
      "from PIL import Image\n",
      "import numpy as np\n",
      "\n",
      "seed = 15  # random seed\n",
      "random.seed(seed)\n",
      "\n",
      "nchannel = 1\n",
      "crop_size = 512\n",
      "batch = 1\n",
      "\n",
      "data = tf.placeholder(tf.float32, [batch, crop_size,crop_size,nchannel])\n",
      "label =  tf.placeholder(tf.int32, [1, crop_size,crop_size])\n",
      "expected = tf.expand_dims(label, -1)\n",
      "\n",
      "\n",
      "out_size = 64\n",
      "conv1_1 = conv2d_layer(data,3,out_size,name = 'conv1_1')\n",
      "conv1_1 = batch_norm_layer(conv1_1,name = 'conv1_1_bn')\n",
      "\n",
      "out_size = 64\n",
      "conv1_2 = conv2d_layer(conv1_1,3,out_size,name = 'conv1_2')\n",
      "conv1_2 = batch_norm_layer(conv1_2,name = 'conv1_2_bn')\n",
      "\n",
      "out_size = 128\n",
      "conv1_3 = conv2d_layer(conv1_2,3,out_size,name = 'conv1_3')\n",
      "conv1_3 = batch_norm_layer(conv1_2,name = 'conv1_3_bn')\n",
      "\n",
      "# pool1\n",
      "pool1 = pool_layer(conv1_3,name='pool1')\n",
      "\n",
      "out_size = 64\n",
      "conv2_1 = conv2d_layer(pool1,3,out_size,name = 'conv2_1')\n",
      "conv2_1 = batch_norm_layer(conv2_1,name = 'conv2_1_bn')\n",
      "\n",
      "out_size = 128\n",
      "conv2_2 = conv2d_layer(conv2_1,3,out_size,name = 'conv2_2')\n",
      "conv2_2 = batch_norm_layer(conv2_2,name = 'conv2_2_bn')\n",
      "\n",
      "out_size = 128\n",
      "conv2_3 = conv2d_layer(conv2_2,3,out_size,name = 'conv2_3')\n",
      "conv2_3 = batch_norm_layer(conv2_3,name = 'conv2_3_bn')\n",
      "\n",
      "pool2 = pool_layer(conv2_3,name='pool2')\n",
      "\n",
      "out_size = 64\n",
      "conv3_1 = conv2d_layer(pool2,3,out_size,name = 'conv3_1')\n",
      "conv3_1 = batch_norm_layer(conv3_1,name = 'conv3_1_bn')\n",
      "\n",
      "out_size = 128\n",
      "conv3_2 = conv2d_layer(conv3_1,3,out_size,name = 'conv3_2')\n",
      "conv3_2 = batch_norm_layer(conv3_2,name = 'conv3_2_bn')\n",
      "\n",
      "out_size = 128\n",
      "conv3_3 = conv2d_layer(conv3_2,3,out_size,name = 'conv3_3')\n",
      "conv3_3 = batch_norm_layer(conv3_3,name = 'conv3_3_bn')\n",
      "\n",
      "# un pooling layer\n",
      "un_pool2 = up_pool_deconv_layer(conv3_3,2,name = 'unpool2')\n",
      "\n",
      "out_size = 64\n",
      "conv4_1 = conv2d_layer(un_pool2,3,out_size,name = 'conv4_1')\n",
      "conv4_1 = batch_norm_layer(conv4_1,name = 'conv4_1_bn')\n",
      "\n",
      "out_size = 128\n",
      "conv4_2 = conv2d_layer(conv4_1,3,out_size,name = 'conv4_2')\n",
      "conv4_2 = batch_norm_layer(conv4_2,name = 'conv4_2_bn')\n",
      "\n",
      "out_size = 128\n",
      "conv4_3 = conv2d_layer(conv4_2,3,out_size,name = 'conv4_3')\n",
      "conv4_3 = batch_norm_layer(conv4_3,name = 'conv4_3_bn')\n",
      "\n",
      "un_pool1 = up_pool_deconv_layer(conv4_3,2,name='unpool1')\n",
      "\n",
      "out_size = 64\n",
      "conv5_1 = conv2d_layer(un_pool1,3,out_size,name = 'conv5_1')\n",
      "conv5_1 = batch_norm_layer(conv5_1,name = 'conv5_1_bn')\n",
      "\n",
      "out_size = 128\n",
      "conv5_2 = conv2d_layer(conv5_1,3,out_size,name = 'conv5_2')\n",
      "conv5_2 = batch_norm_layer(conv5_2,name = 'conv5_2_bn')\n",
      "\n",
      "out_size = 128\n",
      "conv5_3 = conv2d_layer(conv5_2,3,out_size,name = 'conv5_3')\n",
      "conv5_3 = batch_norm_layer(conv5_3,name = 'conv5_3_bn')\n",
      "\n",
      "out_size = 64\n",
      "conv5_4 = conv2d_layer(conv5_3,3,out_size,name = 'conv5_4')\n",
      "conv5_4 = batch_norm_layer(conv5_4,name = 'conv5_4_bn')\n",
      "\n",
      "classes = 2\n",
      "score = conv2d_layer(conv5_4,1,classes,name='score')\n",
      "\n",
      "logits = tf.reshape(score,(-1,2))\n",
      "print 'loghts size: ',logits.get_shape()\n",
      "\n",
      "\n",
      "cross_entropy = tf.nn.sparse_softmax_cross_entropy_with_logits(logits, tf.reshape(expected, [-1]), name='x_entropy')\n",
      "print 'cross entropy size: ',cross_entropy.get_shape()\n",
      "loss = tf.reduce_mean(cross_entropy)\n",
      "\n",
      "rate = 0.0001\n",
      "optimize = tf.train.AdamOptimizer(rate,0.5).minimize(loss)\n",
      "#optimize = tf.train.GradientDescentOptimizer(learning_rate=0.005).minimize(loss)\n",
      "th = 0.5\n",
      "prediction = tf.argmax(tf.reshape(tf.nn.softmax(logits), tf.shape(score)), dimension=3)\n",
      "print 'prediction size: ',prediction.get_shape()\n",
      "#prediction = tf.floor(tf.reshape(tf.nn.softmax(logits), tf.shape(score))+0.5)\n",
      "#print 'prediction size: ',prediction.get_shape()\n",
      "accuracy = tf.div(tf.cast(tf.reduce_sum(prediction+tf.cast(label,int64)),tf.float32),tf.cast(crop_size*crop_size,tf.float32))\n",
      "#accuracy = tf.div(tf.cast(tf.reduce_sum(tf.pow(tf.round(prediction - tf.cast(label,tf.int64)),2)),tf.float32),crop_size*crop_size)"
     ],
     "language": "python",
     "metadata": {},
     "outputs": [
      {
       "output_type": "stream",
       "stream": "stdout",
       "text": [
        "layer: conv1_1  size: (1, 512, 512, 64)\n",
        "layer: conv1_2  size: (1, 512, 512, 64)"
       ]
      },
      {
       "output_type": "stream",
       "stream": "stdout",
       "text": [
        "\n",
        "layer: conv1_3  size: (1, 512, 512, 128)"
       ]
      },
      {
       "output_type": "stream",
       "stream": "stdout",
       "text": [
        "\n",
        "layer: pool1  size: (1, 256, 256, 64)\n",
        "layer: conv2_1  size: (1, 256, 256, 64)"
       ]
      },
      {
       "output_type": "stream",
       "stream": "stdout",
       "text": [
        "\n",
        "layer: conv2_2  size: (1, 256, 256, 128)"
       ]
      },
      {
       "output_type": "stream",
       "stream": "stdout",
       "text": [
        "\n",
        "layer: conv2_3  size: (1, 256, 256, 128)"
       ]
      },
      {
       "output_type": "stream",
       "stream": "stdout",
       "text": [
        "\n",
        "layer: pool2  size: (1, 128, 128, 128)"
       ]
      },
      {
       "output_type": "stream",
       "stream": "stdout",
       "text": [
        "\n",
        "layer: conv3_1  size: (1, 128, 128, 64)\n",
        "layer: conv3_2  size: (1, 128, 128, 128)"
       ]
      },
      {
       "output_type": "stream",
       "stream": "stdout",
       "text": [
        "\n",
        "layer: conv3_3  size: (1, 128, 128, 128)"
       ]
      },
      {
       "output_type": "stream",
       "stream": "stdout",
       "text": [
        "\n",
        "layer: unpool2  size: (1, 256, 256, 128)"
       ]
      },
      {
       "output_type": "stream",
       "stream": "stdout",
       "text": [
        "\n",
        "layer: conv4_1  size: (1, 256, 256, 64)\n",
        "layer: conv4_2  size: (1, 256, 256, 128)"
       ]
      },
      {
       "output_type": "stream",
       "stream": "stdout",
       "text": [
        "\n",
        "layer: conv4_3  size: (1, 256, 256, 128)"
       ]
      },
      {
       "output_type": "stream",
       "stream": "stdout",
       "text": [
        "\n",
        "layer: unpool1  size: (1, 512, 512, 128)"
       ]
      },
      {
       "output_type": "stream",
       "stream": "stdout",
       "text": [
        "\n",
        "layer: conv5_1  size: (1, 512, 512, 64)\n",
        "layer: conv5_2  size: (1, 512, 512, 128)"
       ]
      },
      {
       "output_type": "stream",
       "stream": "stdout",
       "text": [
        "\n",
        "layer: conv5_3  size: (1, 512, 512, 128)"
       ]
      },
      {
       "output_type": "stream",
       "stream": "stdout",
       "text": [
        "\n",
        "layer: conv5_4  size: (1, 512, 512, 64)"
       ]
      },
      {
       "output_type": "stream",
       "stream": "stdout",
       "text": [
        "\n",
        "layer: score  size: (1, 512, 512, 2)"
       ]
      },
      {
       "output_type": "stream",
       "stream": "stdout",
       "text": [
        "\n",
        "loghts size:  (262144, 2)\n",
        "cross entropy size:  (262144,)\n",
        "prediction size: "
       ]
      },
      {
       "output_type": "stream",
       "stream": "stdout",
       "text": [
        " (1, 512, 512)\n"
       ]
      }
     ],
     "prompt_number": 1
    },
    {
     "cell_type": "code",
     "collapsed": false,
     "input": [
      "\n",
      "\n",
      "train_list = '/home/qinshuo/WorkPlace/caffe_space/seg_spine/spine_list/train_list.txt'\n",
      "path = '/media/D/SpineDataset/spine_seg'\n",
      "train_data = []\n",
      "with open(train_list,'r') as ff:\n",
      "    for line in ff:\n",
      "        train_data.append([path+vv for vv in line.split()])\n",
      "print train_data[0]\n",
      "\n",
      "#show_image(read_img(train_data[0][0]),read_img(train_data[0][1]))\n",
      "\n",
      "# enable multiple device\n",
      "#sess = tf.Session(config=tf.ConfigProto(log_device_placement=True))\n",
      "sess = tf.Session()\n",
      "sess.run(tf.initialize_all_variables())\n",
      "\n",
      "iter = 0\n",
      "idx = random.randint(0, len(train_data)-1)\n",
      "batch_xs = read_image(train_data[idx][0],size=crop_size)\n",
      "batch_ys = read_label(train_data[idx][1],size=crop_size)\n",
      "sess.run(optimize,feed_dict = {data: batch_xs,label: batch_ys})\n",
      "print 'step{} -- accuracy is {}'.format(iter,sess.run(accuracy,feed_dict = {data: batch_xs,label: batch_ys}))"
     ],
     "language": "python",
     "metadata": {},
     "outputs": [
      {
       "output_type": "stream",
       "stream": "stdout",
       "text": [
        "['/media/D/SpineDataset/spine_seg/image/AKa21.jpg', '/media/D/SpineDataset/spine_seg/label/AKA2_mask1.png']\n",
        "step0 -- accuracy is 0.424789428711"
       ]
      },
      {
       "output_type": "stream",
       "stream": "stdout",
       "text": [
        "\n"
       ]
      }
     ],
     "prompt_number": 2
    },
    {
     "cell_type": "code",
     "collapsed": false,
     "input": [
      "for iter in range(50000):\n",
      "    idx = random.randint(0, len(train_data)-1)\n",
      "    batch_xs = read_image(train_data[idx][0],size=crop_size)\n",
      "    batch_ys = read_label(train_data[idx][1],size=crop_size)\n",
      "    sess.run(optimize,feed_dict = {data: batch_xs,label: batch_ys})\n",
      "    if (iter+1)%100 == 0:\n",
      "        print 'step{} -- accuracy is {}'.format(iter,sess.run(accuracy,feed_dict = {data: batch_xs,label: batch_ys}))\n",
      "\n",
      "saver = tf.train.Saver()\n",
      "save_path = saver.save(sess,'checkpoint/tmp.ckpt')\n",
      "print(\"Model saved in file: %s\" % save_path)\n",
      "ss = score.eval(session = sess,feed_dict = {data: batch_xs,label: batch_ys})\n",
      "ss2 = ss.reshape(-1,crop_size,crop_size)\n",
      "show_image(ss2[0])"
     ],
     "language": "python",
     "metadata": {},
     "outputs": [
      {
       "output_type": "stream",
       "stream": "stdout",
       "text": [
        "step99 -- accuracy is 0.0875282287598\n",
        "step199 -- accuracy is 0.0649757385254"
       ]
      },
      {
       "output_type": "stream",
       "stream": "stdout",
       "text": [
        "\n",
        "step299 -- accuracy is 0.062671661377"
       ]
      },
      {
       "output_type": "stream",
       "stream": "stdout",
       "text": [
        "\n",
        "step399 -- accuracy is 0.0416450500488"
       ]
      },
      {
       "output_type": "stream",
       "stream": "stdout",
       "text": [
        "\n",
        "step499 -- accuracy is 0.0226135253906"
       ]
      },
      {
       "output_type": "stream",
       "stream": "stdout",
       "text": [
        "\n",
        "step599 -- accuracy is 0.0254020690918"
       ]
      },
      {
       "output_type": "stream",
       "stream": "stdout",
       "text": [
        "\n",
        "step699 -- accuracy is 0.00984191894531"
       ]
      },
      {
       "output_type": "stream",
       "stream": "stdout",
       "text": [
        "\n",
        "step799 -- accuracy is 0.0456123352051"
       ]
      },
      {
       "output_type": "stream",
       "stream": "stdout",
       "text": [
        "\n",
        "step899 -- accuracy is 0.0527038574219"
       ]
      },
      {
       "output_type": "stream",
       "stream": "stdout",
       "text": [
        "\n",
        "step999 -- accuracy is 0.00361251831055"
       ]
      },
      {
       "output_type": "stream",
       "stream": "stdout",
       "text": [
        "\n",
        "step1099 -- accuracy is 0.0233497619629"
       ]
      },
      {
       "output_type": "stream",
       "stream": "stdout",
       "text": [
        "\n",
        "step1199 -- accuracy is 0.0384330749512"
       ]
      },
      {
       "output_type": "stream",
       "stream": "stdout",
       "text": [
        "\n",
        "step1299 -- accuracy is 0.049991607666"
       ]
      },
      {
       "output_type": "stream",
       "stream": "stdout",
       "text": [
        "\n",
        "step1399 -- accuracy is 0.0515441894531"
       ]
      },
      {
       "output_type": "stream",
       "stream": "stdout",
       "text": [
        "\n",
        "step1499 -- accuracy is 0.044002532959"
       ]
      },
      {
       "output_type": "stream",
       "stream": "stdout",
       "text": [
        "\n",
        "step1599 -- accuracy is 0.0668525695801"
       ]
      },
      {
       "output_type": "stream",
       "stream": "stdout",
       "text": [
        "\n",
        "step1699 -- accuracy is 0.0459327697754"
       ]
      },
      {
       "output_type": "stream",
       "stream": "stdout",
       "text": [
        "\n",
        "step1799 -- accuracy is 0.00282669067383"
       ]
      },
      {
       "output_type": "stream",
       "stream": "stdout",
       "text": [
        "\n",
        "step1899 -- accuracy is 0.00410461425781"
       ]
      },
      {
       "output_type": "stream",
       "stream": "stdout",
       "text": [
        "\n",
        "step1999 -- accuracy is 0.0370712280273"
       ]
      },
      {
       "output_type": "stream",
       "stream": "stdout",
       "text": [
        "\n",
        "step2099 -- accuracy is 0.0451354980469"
       ]
      },
      {
       "output_type": "stream",
       "stream": "stdout",
       "text": [
        "\n",
        "step2199 -- accuracy is 0.0318260192871"
       ]
      },
      {
       "output_type": "stream",
       "stream": "stdout",
       "text": [
        "\n",
        "step2299 -- accuracy is 0.00111770629883"
       ]
      },
      {
       "output_type": "stream",
       "stream": "stdout",
       "text": [
        "\n",
        "step2399 -- accuracy is 0.00402450561523"
       ]
      },
      {
       "output_type": "stream",
       "stream": "stdout",
       "text": [
        "\n",
        "step2499 -- accuracy is 0.0440063476562"
       ]
      },
      {
       "output_type": "stream",
       "stream": "stdout",
       "text": [
        "\n",
        "step2599 -- accuracy is 0.0097770690918"
       ]
      },
      {
       "output_type": "stream",
       "stream": "stdout",
       "text": [
        "\n",
        "step2699 -- accuracy is 0.049488067627"
       ]
      },
      {
       "output_type": "stream",
       "stream": "stdout",
       "text": [
        "\n",
        "step2799 -- accuracy is 0.0184364318848"
       ]
      },
      {
       "output_type": "stream",
       "stream": "stdout",
       "text": [
        "\n",
        "step2899 -- accuracy is 0.0750122070312"
       ]
      },
      {
       "output_type": "stream",
       "stream": "stdout",
       "text": [
        "\n",
        "step2999 -- accuracy is 0.00757217407227"
       ]
      },
      {
       "output_type": "stream",
       "stream": "stdout",
       "text": [
        "\n",
        "step3099 -- accuracy is 0.0381774902344"
       ]
      },
      {
       "output_type": "stream",
       "stream": "stdout",
       "text": [
        "\n",
        "step3199 -- accuracy is 0.0537757873535"
       ]
      },
      {
       "output_type": "stream",
       "stream": "stdout",
       "text": [
        "\n",
        "step3299 -- accuracy is 0.00506973266602"
       ]
      },
      {
       "output_type": "stream",
       "stream": "stdout",
       "text": [
        "\n",
        "step3399 -- accuracy is 0.0326499938965"
       ]
      },
      {
       "output_type": "stream",
       "stream": "stdout",
       "text": [
        "\n",
        "step3499 -- accuracy is 0.00130462646484"
       ]
      },
      {
       "output_type": "stream",
       "stream": "stdout",
       "text": [
        "\n",
        "step3599 -- accuracy is 0.0707168579102"
       ]
      },
      {
       "output_type": "stream",
       "stream": "stdout",
       "text": [
        "\n",
        "step3699 -- accuracy is 0.000747680664062"
       ]
      },
      {
       "output_type": "stream",
       "stream": "stdout",
       "text": [
        "\n",
        "step3799 -- accuracy is 0.0374908447266"
       ]
      },
      {
       "output_type": "stream",
       "stream": "stdout",
       "text": [
        "\n",
        "step3899 -- accuracy is 0.031421661377"
       ]
      },
      {
       "output_type": "stream",
       "stream": "stdout",
       "text": [
        "\n",
        "step3999 -- accuracy is 0.0331840515137"
       ]
      },
      {
       "output_type": "stream",
       "stream": "stdout",
       "text": [
        "\n",
        "step4099 -- accuracy is 0.0476913452148"
       ]
      },
      {
       "output_type": "stream",
       "stream": "stdout",
       "text": [
        "\n",
        "step4199 -- accuracy is 0.0489387512207"
       ]
      },
      {
       "output_type": "stream",
       "stream": "stdout",
       "text": [
        "\n",
        "step4299 -- accuracy is 0.059383392334"
       ]
      },
      {
       "output_type": "stream",
       "stream": "stdout",
       "text": [
        "\n",
        "step4399 -- accuracy is 0.0349349975586"
       ]
      },
      {
       "output_type": "stream",
       "stream": "stdout",
       "text": [
        "\n",
        "step4499 -- accuracy is 0.00268936157227"
       ]
      },
      {
       "output_type": "stream",
       "stream": "stdout",
       "text": [
        "\n",
        "step4599 -- accuracy is 0.0204391479492"
       ]
      },
      {
       "output_type": "stream",
       "stream": "stdout",
       "text": [
        "\n",
        "step4699 -- accuracy is 0.0583915710449"
       ]
      },
      {
       "output_type": "stream",
       "stream": "stdout",
       "text": [
        "\n",
        "step4799 -- accuracy is 0.0168991088867"
       ]
      },
      {
       "output_type": "stream",
       "stream": "stdout",
       "text": [
        "\n",
        "step4899 -- accuracy is 0.000125885009766"
       ]
      },
      {
       "output_type": "stream",
       "stream": "stdout",
       "text": [
        "\n",
        "step4999 -- accuracy is 0.0001220703125"
       ]
      },
      {
       "output_type": "stream",
       "stream": "stdout",
       "text": [
        "\n",
        "step5099 -- accuracy is 0.0198402404785"
       ]
      },
      {
       "output_type": "stream",
       "stream": "stdout",
       "text": [
        "\n",
        "step5199 -- accuracy is 0.000240325927734"
       ]
      },
      {
       "output_type": "stream",
       "stream": "stdout",
       "text": [
        "\n",
        "step5299 -- accuracy is 0.0419921875"
       ]
      },
      {
       "output_type": "stream",
       "stream": "stdout",
       "text": [
        "\n",
        "step5399 -- accuracy is 0.0110855102539"
       ]
      },
      {
       "output_type": "stream",
       "stream": "stdout",
       "text": [
        "\n",
        "step5499 -- accuracy is 4.57763671875e-05"
       ]
      },
      {
       "output_type": "stream",
       "stream": "stdout",
       "text": [
        "\n",
        "step5599 -- accuracy is 0.0351409912109"
       ]
      },
      {
       "output_type": "stream",
       "stream": "stdout",
       "text": [
        "\n",
        "step5699 -- accuracy is 0.0656318664551"
       ]
      },
      {
       "output_type": "stream",
       "stream": "stdout",
       "text": [
        "\n",
        "step5799 -- accuracy is 0.0288200378418"
       ]
      },
      {
       "output_type": "stream",
       "stream": "stdout",
       "text": [
        "\n",
        "step5899 -- accuracy is 0.00393295288086"
       ]
      },
      {
       "output_type": "stream",
       "stream": "stdout",
       "text": [
        "\n",
        "step5999 -- accuracy is 0.020580291748"
       ]
      },
      {
       "output_type": "stream",
       "stream": "stdout",
       "text": [
        "\n",
        "step6099 -- accuracy is 0.0443115234375"
       ]
      },
      {
       "output_type": "stream",
       "stream": "stdout",
       "text": [
        "\n",
        "step6199 -- accuracy is 0.0111808776855"
       ]
      },
      {
       "output_type": "stream",
       "stream": "stdout",
       "text": [
        "\n",
        "step6299 -- accuracy is 0.0477676391602"
       ]
      },
      {
       "output_type": "stream",
       "stream": "stdout",
       "text": [
        "\n",
        "step6399 -- accuracy is 0.0539932250977"
       ]
      },
      {
       "output_type": "stream",
       "stream": "stdout",
       "text": [
        "\n",
        "step6499 -- accuracy is 0.069164276123"
       ]
      },
      {
       "output_type": "stream",
       "stream": "stdout",
       "text": [
        "\n",
        "step6599 -- accuracy is 0.00117874145508"
       ]
      },
      {
       "output_type": "stream",
       "stream": "stdout",
       "text": [
        "\n",
        "step6699 -- accuracy is 0.00882720947266"
       ]
      },
      {
       "output_type": "stream",
       "stream": "stdout",
       "text": [
        "\n",
        "step6799 -- accuracy is 0.01513671875"
       ]
      },
      {
       "output_type": "stream",
       "stream": "stdout",
       "text": [
        "\n",
        "step6899 -- accuracy is 0.00976943969727"
       ]
      },
      {
       "output_type": "stream",
       "stream": "stdout",
       "text": [
        "\n",
        "step6999 -- accuracy is 0.0339317321777"
       ]
      },
      {
       "output_type": "stream",
       "stream": "stdout",
       "text": [
        "\n",
        "step7099 -- accuracy is 0.0114860534668"
       ]
      },
      {
       "output_type": "stream",
       "stream": "stdout",
       "text": [
        "\n",
        "step7199 -- accuracy is 0.0125961303711"
       ]
      },
      {
       "output_type": "stream",
       "stream": "stdout",
       "text": [
        "\n",
        "step7299 -- accuracy is 0.125064849854"
       ]
      },
      {
       "output_type": "stream",
       "stream": "stdout",
       "text": [
        "\n",
        "step7399 -- accuracy is 0.0617523193359"
       ]
      },
      {
       "output_type": "stream",
       "stream": "stdout",
       "text": [
        "\n",
        "step7499 -- accuracy is 0.132423400879"
       ]
      },
      {
       "output_type": "stream",
       "stream": "stdout",
       "text": [
        "\n",
        "step7599 -- accuracy is 0.040901184082"
       ]
      },
      {
       "output_type": "stream",
       "stream": "stdout",
       "text": [
        "\n",
        "step7699 -- accuracy is 0.0226058959961"
       ]
      },
      {
       "output_type": "stream",
       "stream": "stdout",
       "text": [
        "\n",
        "step7799 -- accuracy is 0.0479774475098"
       ]
      },
      {
       "output_type": "stream",
       "stream": "stdout",
       "text": [
        "\n",
        "step7899 -- accuracy is 0.000522613525391"
       ]
      },
      {
       "output_type": "stream",
       "stream": "stdout",
       "text": [
        "\n",
        "step7999 -- accuracy is 0.0813179016113"
       ]
      },
      {
       "output_type": "stream",
       "stream": "stdout",
       "text": [
        "\n",
        "step8099 -- accuracy is 0.14338684082"
       ]
      },
      {
       "output_type": "stream",
       "stream": "stdout",
       "text": [
        "\n",
        "step8199 -- accuracy is 0.115612030029"
       ]
      },
      {
       "output_type": "stream",
       "stream": "stdout",
       "text": [
        "\n",
        "step8299 -- accuracy is 0.135238647461"
       ]
      },
      {
       "output_type": "stream",
       "stream": "stdout",
       "text": [
        "\n",
        "step8399 -- accuracy is 0.000717163085938"
       ]
      },
      {
       "output_type": "stream",
       "stream": "stdout",
       "text": [
        "\n",
        "step8499 -- accuracy is 0.0955352783203"
       ]
      },
      {
       "output_type": "stream",
       "stream": "stdout",
       "text": [
        "\n",
        "step8599 -- accuracy is 0.0433197021484"
       ]
      },
      {
       "output_type": "stream",
       "stream": "stdout",
       "text": [
        "\n",
        "step8699 -- accuracy is 0.09521484375"
       ]
      },
      {
       "output_type": "stream",
       "stream": "stdout",
       "text": [
        "\n",
        "step8799 -- accuracy is 0.000167846679688"
       ]
      },
      {
       "output_type": "stream",
       "stream": "stdout",
       "text": [
        "\n",
        "step8899 -- accuracy is 0.0952491760254"
       ]
      },
      {
       "output_type": "stream",
       "stream": "stdout",
       "text": [
        "\n",
        "step8999 -- accuracy is 0.0990562438965"
       ]
      },
      {
       "output_type": "stream",
       "stream": "stdout",
       "text": [
        "\n",
        "step9099 -- accuracy is 0.00500869750977"
       ]
      },
      {
       "output_type": "stream",
       "stream": "stdout",
       "text": [
        "\n",
        "step9199 -- accuracy is 0.0842933654785"
       ]
      },
      {
       "output_type": "stream",
       "stream": "stdout",
       "text": [
        "\n",
        "step9299 -- accuracy is 0.0849304199219"
       ]
      },
      {
       "output_type": "stream",
       "stream": "stdout",
       "text": [
        "\n",
        "step9399 -- accuracy is 2.28881835938e-05"
       ]
      },
      {
       "output_type": "stream",
       "stream": "stdout",
       "text": [
        "\n",
        "step9499 -- accuracy is 0.0554580688477"
       ]
      },
      {
       "output_type": "stream",
       "stream": "stdout",
       "text": [
        "\n",
        "step9599 -- accuracy is 0.00740432739258"
       ]
      },
      {
       "output_type": "stream",
       "stream": "stdout",
       "text": [
        "\n",
        "step9699 -- accuracy is 0.0984535217285"
       ]
      },
      {
       "output_type": "stream",
       "stream": "stdout",
       "text": [
        "\n",
        "step9799 -- accuracy is 0.10383605957"
       ]
      },
      {
       "output_type": "stream",
       "stream": "stdout",
       "text": [
        "\n",
        "step9899 -- accuracy is 0.0"
       ]
      },
      {
       "output_type": "stream",
       "stream": "stdout",
       "text": [
        "\n",
        "step9999 -- accuracy is 0.13639831543"
       ]
      },
      {
       "output_type": "stream",
       "stream": "stdout",
       "text": [
        "\n",
        "step10099 -- accuracy is 0.0743637084961"
       ]
      },
      {
       "output_type": "stream",
       "stream": "stdout",
       "text": [
        "\n",
        "step10199 -- accuracy is 1.52587890625e-05"
       ]
      },
      {
       "output_type": "stream",
       "stream": "stdout",
       "text": [
        "\n",
        "step10299 -- accuracy is 0.0795631408691"
       ]
      },
      {
       "output_type": "stream",
       "stream": "stdout",
       "text": [
        "\n",
        "step10399 -- accuracy is 0.000274658203125"
       ]
      },
      {
       "output_type": "stream",
       "stream": "stdout",
       "text": [
        "\n",
        "step10499 -- accuracy is 0.000495910644531"
       ]
      },
      {
       "output_type": "stream",
       "stream": "stdout",
       "text": [
        "\n",
        "step10599 -- accuracy is 0.096321105957"
       ]
      },
      {
       "output_type": "stream",
       "stream": "stdout",
       "text": [
        "\n",
        "step10699 -- accuracy is 0.0738258361816"
       ]
      },
      {
       "output_type": "stream",
       "stream": "stdout",
       "text": [
        "\n",
        "step10799 -- accuracy is 0.100124359131"
       ]
      },
      {
       "output_type": "stream",
       "stream": "stdout",
       "text": [
        "\n",
        "step10899 -- accuracy is 0.0596122741699"
       ]
      },
      {
       "output_type": "stream",
       "stream": "stdout",
       "text": [
        "\n",
        "step10999 -- accuracy is 0.0676422119141"
       ]
      },
      {
       "output_type": "stream",
       "stream": "stdout",
       "text": [
        "\n",
        "step11099 -- accuracy is 0.0883903503418"
       ]
      },
      {
       "output_type": "stream",
       "stream": "stdout",
       "text": [
        "\n",
        "step11199 -- accuracy is 0.0928916931152"
       ]
      },
      {
       "output_type": "stream",
       "stream": "stdout",
       "text": [
        "\n",
        "step11299 -- accuracy is 1.90734863281e-05"
       ]
      },
      {
       "output_type": "stream",
       "stream": "stdout",
       "text": [
        "\n",
        "step11399 -- accuracy is 0.0621452331543"
       ]
      },
      {
       "output_type": "stream",
       "stream": "stdout",
       "text": [
        "\n",
        "step11499 -- accuracy is 1.52587890625e-05"
       ]
      },
      {
       "output_type": "stream",
       "stream": "stdout",
       "text": [
        "\n",
        "step11599 -- accuracy is 0.12670135498"
       ]
      },
      {
       "output_type": "stream",
       "stream": "stdout",
       "text": [
        "\n",
        "step11699 -- accuracy is 0.082592010498"
       ]
      },
      {
       "output_type": "stream",
       "stream": "stdout",
       "text": [
        "\n",
        "step11799 -- accuracy is 0.0901069641113"
       ]
      },
      {
       "output_type": "stream",
       "stream": "stdout",
       "text": [
        "\n",
        "step11899 -- accuracy is 0.0277938842773"
       ]
      },
      {
       "output_type": "stream",
       "stream": "stdout",
       "text": [
        "\n",
        "step11999 -- accuracy is 0.093677520752"
       ]
      },
      {
       "output_type": "stream",
       "stream": "stdout",
       "text": [
        "\n",
        "step12099 -- accuracy is 0.0467491149902"
       ]
      },
      {
       "output_type": "stream",
       "stream": "stdout",
       "text": [
        "\n",
        "step12199 -- accuracy is 0.044303894043"
       ]
      },
      {
       "output_type": "stream",
       "stream": "stdout",
       "text": [
        "\n",
        "step12299 -- accuracy is 0.0832023620605"
       ]
      },
      {
       "output_type": "stream",
       "stream": "stdout",
       "text": [
        "\n",
        "step12399 -- accuracy is 0.130210876465"
       ]
      },
      {
       "output_type": "stream",
       "stream": "stdout",
       "text": [
        "\n",
        "step12499 -- accuracy is 0.0910949707031"
       ]
      },
      {
       "output_type": "stream",
       "stream": "stdout",
       "text": [
        "\n",
        "step12599 -- accuracy is 0.098747253418"
       ]
      },
      {
       "output_type": "stream",
       "stream": "stdout",
       "text": [
        "\n",
        "step12699 -- accuracy is 0.000514984130859"
       ]
      },
      {
       "output_type": "stream",
       "stream": "stdout",
       "text": [
        "\n",
        "step12799 -- accuracy is 0.00354385375977"
       ]
      },
      {
       "output_type": "stream",
       "stream": "stdout",
       "text": [
        "\n",
        "step12899 -- accuracy is 0.0714645385742"
       ]
      },
      {
       "output_type": "stream",
       "stream": "stdout",
       "text": [
        "\n",
        "step12999 -- accuracy is 0.0940093994141"
       ]
      },
      {
       "output_type": "stream",
       "stream": "stdout",
       "text": [
        "\n",
        "step13099 -- accuracy is 0.0399703979492"
       ]
      },
      {
       "output_type": "stream",
       "stream": "stdout",
       "text": [
        "\n",
        "step13199 -- accuracy is 3.81469726562e-06"
       ]
      },
      {
       "output_type": "stream",
       "stream": "stdout",
       "text": [
        "\n",
        "step13299 -- accuracy is 0.100463867188"
       ]
      },
      {
       "output_type": "stream",
       "stream": "stdout",
       "text": [
        "\n",
        "step13399 -- accuracy is 0.00887298583984"
       ]
      },
      {
       "output_type": "stream",
       "stream": "stdout",
       "text": [
        "\n",
        "step13499 -- accuracy is 0.0568084716797"
       ]
      },
      {
       "output_type": "stream",
       "stream": "stdout",
       "text": [
        "\n",
        "step13599 -- accuracy is 0.0171775817871"
       ]
      },
      {
       "output_type": "stream",
       "stream": "stdout",
       "text": [
        "\n",
        "step13699 -- accuracy is 0.0710029602051"
       ]
      },
      {
       "output_type": "stream",
       "stream": "stdout",
       "text": [
        "\n",
        "step13799 -- accuracy is 0.00783920288086"
       ]
      },
      {
       "output_type": "stream",
       "stream": "stdout",
       "text": [
        "\n",
        "step13899 -- accuracy is 0.0388412475586"
       ]
      },
      {
       "output_type": "stream",
       "stream": "stdout",
       "text": [
        "\n",
        "step13999 -- accuracy is 0.00493621826172"
       ]
      },
      {
       "output_type": "stream",
       "stream": "stdout",
       "text": [
        "\n",
        "step14099 -- accuracy is 0.122077941895"
       ]
      },
      {
       "output_type": "stream",
       "stream": "stdout",
       "text": [
        "\n",
        "step14199 -- accuracy is 0.10485458374"
       ]
      },
      {
       "output_type": "stream",
       "stream": "stdout",
       "text": [
        "\n",
        "step14299 -- accuracy is 0.0"
       ]
      },
      {
       "output_type": "stream",
       "stream": "stdout",
       "text": [
        "\n",
        "step14399 -- accuracy is 0.000419616699219"
       ]
      },
      {
       "output_type": "stream",
       "stream": "stdout",
       "text": [
        "\n",
        "step14499 -- accuracy is 1.90734863281e-05"
       ]
      },
      {
       "output_type": "stream",
       "stream": "stdout",
       "text": [
        "\n",
        "step14599 -- accuracy is 0.0364456176758"
       ]
      },
      {
       "output_type": "stream",
       "stream": "stdout",
       "text": [
        "\n",
        "step14699 -- accuracy is 0.0717735290527"
       ]
      },
      {
       "output_type": "stream",
       "stream": "stdout",
       "text": [
        "\n",
        "step14799 -- accuracy is 0.0119438171387"
       ]
      },
      {
       "output_type": "stream",
       "stream": "stdout",
       "text": [
        "\n",
        "step14899 -- accuracy is 0.0900611877441"
       ]
      },
      {
       "output_type": "stream",
       "stream": "stdout",
       "text": [
        "\n",
        "step14999 -- accuracy is 0.000144958496094"
       ]
      },
      {
       "output_type": "stream",
       "stream": "stdout",
       "text": [
        "\n",
        "step15099 -- accuracy is 0.00259780883789"
       ]
      },
      {
       "output_type": "stream",
       "stream": "stdout",
       "text": [
        "\n",
        "step15199 -- accuracy is 0.0505981445312"
       ]
      },
      {
       "output_type": "stream",
       "stream": "stdout",
       "text": [
        "\n",
        "step15299 -- accuracy is 0.0724067687988"
       ]
      },
      {
       "output_type": "stream",
       "stream": "stdout",
       "text": [
        "\n",
        "step15399 -- accuracy is 0.0135154724121"
       ]
      },
      {
       "output_type": "stream",
       "stream": "stdout",
       "text": [
        "\n",
        "step15499 -- accuracy is 0.0835876464844"
       ]
      },
      {
       "output_type": "stream",
       "stream": "stdout",
       "text": [
        "\n",
        "step15599 -- accuracy is 0.060718536377"
       ]
      },
      {
       "output_type": "stream",
       "stream": "stdout",
       "text": [
        "\n",
        "step15699 -- accuracy is 0.0964393615723"
       ]
      },
      {
       "output_type": "stream",
       "stream": "stdout",
       "text": [
        "\n",
        "step15799 -- accuracy is 0.0548515319824"
       ]
      },
      {
       "output_type": "stream",
       "stream": "stdout",
       "text": [
        "\n",
        "step15899 -- accuracy is 0.0642852783203"
       ]
      },
      {
       "output_type": "stream",
       "stream": "stdout",
       "text": [
        "\n",
        "step15999 -- accuracy is 0.0"
       ]
      },
      {
       "output_type": "stream",
       "stream": "stdout",
       "text": [
        "\n",
        "step16099 -- accuracy is 0.0119667053223"
       ]
      },
      {
       "output_type": "stream",
       "stream": "stdout",
       "text": [
        "\n",
        "step16199 -- accuracy is 0.00885391235352"
       ]
      },
      {
       "output_type": "stream",
       "stream": "stdout",
       "text": [
        "\n",
        "step16299 -- accuracy is 0.141120910645"
       ]
      },
      {
       "output_type": "stream",
       "stream": "stdout",
       "text": [
        "\n",
        "step16399 -- accuracy is 0.0101699829102"
       ]
      },
      {
       "output_type": "stream",
       "stream": "stdout",
       "text": [
        "\n",
        "step16499 -- accuracy is 0.0951843261719"
       ]
      },
      {
       "output_type": "stream",
       "stream": "stdout",
       "text": [
        "\n",
        "step16599 -- accuracy is 0.017147064209"
       ]
      },
      {
       "output_type": "stream",
       "stream": "stdout",
       "text": [
        "\n",
        "step16699 -- accuracy is 0.0926094055176"
       ]
      },
      {
       "output_type": "stream",
       "stream": "stdout",
       "text": [
        "\n",
        "step16799 -- accuracy is 0.000167846679688"
       ]
      },
      {
       "output_type": "stream",
       "stream": "stdout",
       "text": [
        "\n",
        "step16899 -- accuracy is 3.81469726562e-06"
       ]
      },
      {
       "output_type": "stream",
       "stream": "stdout",
       "text": [
        "\n",
        "step16999 -- accuracy is 0.0978050231934"
       ]
      },
      {
       "output_type": "stream",
       "stream": "stdout",
       "text": [
        "\n",
        "step17099 -- accuracy is 0.00576782226562"
       ]
      },
      {
       "output_type": "stream",
       "stream": "stdout",
       "text": [
        "\n",
        "step17199 -- accuracy is 0.0173988342285"
       ]
      },
      {
       "output_type": "stream",
       "stream": "stdout",
       "text": [
        "\n",
        "step17299 -- accuracy is 0.0662078857422"
       ]
      },
      {
       "output_type": "stream",
       "stream": "stdout",
       "text": [
        "\n",
        "step17399 -- accuracy is 0.0826988220215"
       ]
      },
      {
       "output_type": "stream",
       "stream": "stdout",
       "text": [
        "\n",
        "step17499 -- accuracy is 0.0727729797363"
       ]
      },
      {
       "output_type": "stream",
       "stream": "stdout",
       "text": [
        "\n",
        "step17599 -- accuracy is 0.0912284851074"
       ]
      },
      {
       "output_type": "stream",
       "stream": "stdout",
       "text": [
        "\n",
        "step17699 -- accuracy is 0.0917129516602"
       ]
      },
      {
       "output_type": "stream",
       "stream": "stdout",
       "text": [
        "\n",
        "step17799 -- accuracy is 0.0599746704102"
       ]
      },
      {
       "output_type": "stream",
       "stream": "stdout",
       "text": [
        "\n",
        "step17899 -- accuracy is 0.0870666503906"
       ]
      },
      {
       "output_type": "stream",
       "stream": "stdout",
       "text": [
        "\n",
        "step17999 -- accuracy is 0.0566558837891"
       ]
      },
      {
       "output_type": "stream",
       "stream": "stdout",
       "text": [
        "\n",
        "step18099 -- accuracy is 0.0930709838867"
       ]
      },
      {
       "output_type": "stream",
       "stream": "stdout",
       "text": [
        "\n",
        "step18199 -- accuracy is 0.00136947631836"
       ]
      },
      {
       "output_type": "stream",
       "stream": "stdout",
       "text": [
        "\n",
        "step18299 -- accuracy is 0.010986328125"
       ]
      },
      {
       "output_type": "stream",
       "stream": "stdout",
       "text": [
        "\n",
        "step18399 -- accuracy is 0.0536766052246"
       ]
      },
      {
       "output_type": "stream",
       "stream": "stdout",
       "text": [
        "\n",
        "step18499 -- accuracy is 0.0962867736816"
       ]
      },
      {
       "output_type": "stream",
       "stream": "stdout",
       "text": [
        "\n",
        "step18599 -- accuracy is 0.026554107666"
       ]
      },
      {
       "output_type": "stream",
       "stream": "stdout",
       "text": [
        "\n",
        "step18699 -- accuracy is 0.000804901123047"
       ]
      },
      {
       "output_type": "stream",
       "stream": "stdout",
       "text": [
        "\n",
        "step18799 -- accuracy is 0.0542526245117"
       ]
      },
      {
       "output_type": "stream",
       "stream": "stdout",
       "text": [
        "\n",
        "step18899 -- accuracy is 0.0196876525879"
       ]
      },
      {
       "output_type": "stream",
       "stream": "stdout",
       "text": [
        "\n",
        "step18999 -- accuracy is 0.0552711486816"
       ]
      },
      {
       "output_type": "stream",
       "stream": "stdout",
       "text": [
        "\n",
        "step19099 -- accuracy is 0.00298690795898"
       ]
      },
      {
       "output_type": "stream",
       "stream": "stdout",
       "text": [
        "\n",
        "step19199 -- accuracy is 0.0"
       ]
      },
      {
       "output_type": "stream",
       "stream": "stdout",
       "text": [
        "\n",
        "step19299 -- accuracy is 0.0977935791016"
       ]
      },
      {
       "output_type": "stream",
       "stream": "stdout",
       "text": [
        "\n",
        "step19399 -- accuracy is 0.0123519897461"
       ]
      },
      {
       "output_type": "stream",
       "stream": "stdout",
       "text": [
        "\n",
        "step19499 -- accuracy is 0.0755157470703"
       ]
      },
      {
       "output_type": "stream",
       "stream": "stdout",
       "text": [
        "\n",
        "step19599 -- accuracy is 0.0100402832031"
       ]
      },
      {
       "output_type": "stream",
       "stream": "stdout",
       "text": [
        "\n",
        "step19699 -- accuracy is 0.123500823975"
       ]
      },
      {
       "output_type": "stream",
       "stream": "stdout",
       "text": [
        "\n",
        "step19799 -- accuracy is 0.0714416503906"
       ]
      },
      {
       "output_type": "stream",
       "stream": "stdout",
       "text": [
        "\n",
        "step19899 -- accuracy is 0.0787811279297"
       ]
      },
      {
       "output_type": "stream",
       "stream": "stdout",
       "text": [
        "\n",
        "step19999 -- accuracy is 0.0"
       ]
      },
      {
       "output_type": "stream",
       "stream": "stdout",
       "text": [
        "\n",
        "step20099 -- accuracy is 2.28881835938e-05"
       ]
      },
      {
       "output_type": "stream",
       "stream": "stdout",
       "text": [
        "\n",
        "step20199 -- accuracy is 0.00295257568359"
       ]
      },
      {
       "output_type": "stream",
       "stream": "stdout",
       "text": [
        "\n",
        "step20299 -- accuracy is 0.0994720458984"
       ]
      },
      {
       "output_type": "stream",
       "stream": "stdout",
       "text": [
        "\n",
        "step20399 -- accuracy is 0.0588531494141"
       ]
      },
      {
       "output_type": "stream",
       "stream": "stdout",
       "text": [
        "\n",
        "step20499 -- accuracy is 0.0210800170898"
       ]
      },
      {
       "output_type": "stream",
       "stream": "stdout",
       "text": [
        "\n",
        "step20599 -- accuracy is 0.0928382873535"
       ]
      },
      {
       "output_type": "stream",
       "stream": "stdout",
       "text": [
        "\n",
        "step20699 -- accuracy is 0.0272369384766"
       ]
      },
      {
       "output_type": "stream",
       "stream": "stdout",
       "text": [
        "\n",
        "step20799 -- accuracy is 1.52587890625e-05"
       ]
      },
      {
       "output_type": "stream",
       "stream": "stdout",
       "text": [
        "\n",
        "step20899 -- accuracy is 0.0"
       ]
      },
      {
       "output_type": "stream",
       "stream": "stdout",
       "text": [
        "\n",
        "step20999 -- accuracy is 0.094165802002"
       ]
      },
      {
       "output_type": "stream",
       "stream": "stdout",
       "text": [
        "\n",
        "step21099 -- accuracy is 0.0939636230469"
       ]
      },
      {
       "output_type": "stream",
       "stream": "stdout",
       "text": [
        "\n",
        "step21199 -- accuracy is 0.0597763061523"
       ]
      },
      {
       "output_type": "stream",
       "stream": "stdout",
       "text": [
        "\n",
        "step21299 -- accuracy is 0.0"
       ]
      },
      {
       "output_type": "stream",
       "stream": "stdout",
       "text": [
        "\n",
        "step21399 -- accuracy is 0.0968284606934"
       ]
      },
      {
       "output_type": "stream",
       "stream": "stdout",
       "text": [
        "\n",
        "step21499 -- accuracy is 0.0967864990234"
       ]
      },
      {
       "output_type": "stream",
       "stream": "stdout",
       "text": [
        "\n",
        "step21599 -- accuracy is 0.00976181030273"
       ]
      },
      {
       "output_type": "stream",
       "stream": "stdout",
       "text": [
        "\n",
        "step21699 -- accuracy is 0.0"
       ]
      },
      {
       "output_type": "stream",
       "stream": "stdout",
       "text": [
        "\n",
        "step21799 -- accuracy is 0.0268592834473"
       ]
      },
      {
       "output_type": "stream",
       "stream": "stdout",
       "text": [
        "\n",
        "step21899 -- accuracy is 0.0621376037598"
       ]
      },
      {
       "output_type": "stream",
       "stream": "stdout",
       "text": [
        "\n",
        "step21999 -- accuracy is 0.0352897644043"
       ]
      },
      {
       "output_type": "stream",
       "stream": "stdout",
       "text": [
        "\n",
        "step22099 -- accuracy is 0.115818023682"
       ]
      },
      {
       "output_type": "stream",
       "stream": "stdout",
       "text": [
        "\n",
        "step22199 -- accuracy is 0.087646484375"
       ]
      },
      {
       "output_type": "stream",
       "stream": "stdout",
       "text": [
        "\n",
        "step22299 -- accuracy is 0.0557136535645"
       ]
      },
      {
       "output_type": "stream",
       "stream": "stdout",
       "text": [
        "\n",
        "step22399 -- accuracy is 0.0502243041992"
       ]
      },
      {
       "output_type": "stream",
       "stream": "stdout",
       "text": [
        "\n",
        "step22499 -- accuracy is 0.0"
       ]
      },
      {
       "output_type": "stream",
       "stream": "stdout",
       "text": [
        "\n",
        "step22599 -- accuracy is 0.0733604431152"
       ]
      },
      {
       "output_type": "stream",
       "stream": "stdout",
       "text": [
        "\n",
        "step22699 -- accuracy is 1.52587890625e-05"
       ]
      },
      {
       "output_type": "stream",
       "stream": "stdout",
       "text": [
        "\n",
        "step22799 -- accuracy is 0.0934562683105"
       ]
      },
      {
       "output_type": "stream",
       "stream": "stdout",
       "text": [
        "\n",
        "step22899 -- accuracy is 0.0999221801758"
       ]
      },
      {
       "output_type": "stream",
       "stream": "stdout",
       "text": [
        "\n",
        "step22999 -- accuracy is 0.0"
       ]
      },
      {
       "output_type": "stream",
       "stream": "stdout",
       "text": [
        "\n",
        "step23099 -- accuracy is 0.0854263305664"
       ]
      },
      {
       "output_type": "stream",
       "stream": "stdout",
       "text": [
        "\n",
        "step23199 -- accuracy is 0.0973014831543"
       ]
      },
      {
       "output_type": "stream",
       "stream": "stdout",
       "text": [
        "\n",
        "step23299 -- accuracy is 0.0"
       ]
      },
      {
       "output_type": "stream",
       "stream": "stdout",
       "text": [
        "\n",
        "step23399 -- accuracy is 0.096363067627"
       ]
      },
      {
       "output_type": "stream",
       "stream": "stdout",
       "text": [
        "\n",
        "step23499 -- accuracy is 0.00756454467773"
       ]
      },
      {
       "output_type": "stream",
       "stream": "stdout",
       "text": [
        "\n",
        "step23599 -- accuracy is 0.0869293212891"
       ]
      },
      {
       "output_type": "stream",
       "stream": "stdout",
       "text": [
        "\n",
        "step23699 -- accuracy is 0.054386138916"
       ]
      },
      {
       "output_type": "stream",
       "stream": "stdout",
       "text": [
        "\n",
        "step23799 -- accuracy is 0.0833053588867"
       ]
      },
      {
       "output_type": "stream",
       "stream": "stdout",
       "text": [
        "\n",
        "step23899 -- accuracy is 0.00277709960938"
       ]
      },
      {
       "output_type": "stream",
       "stream": "stdout",
       "text": [
        "\n",
        "step23999 -- accuracy is 0.0102462768555"
       ]
      },
      {
       "output_type": "stream",
       "stream": "stdout",
       "text": [
        "\n",
        "step24099 -- accuracy is 0.0567054748535"
       ]
      },
      {
       "output_type": "stream",
       "stream": "stdout",
       "text": [
        "\n",
        "step24199 -- accuracy is 0.0157012939453"
       ]
      },
      {
       "output_type": "stream",
       "stream": "stdout",
       "text": [
        "\n",
        "step24299 -- accuracy is 0.0947723388672"
       ]
      },
      {
       "output_type": "stream",
       "stream": "stdout",
       "text": [
        "\n",
        "step24399 -- accuracy is 0.0947113037109"
       ]
      },
      {
       "output_type": "stream",
       "stream": "stdout",
       "text": [
        "\n",
        "step24499 -- accuracy is 0.106037139893"
       ]
      },
      {
       "output_type": "stream",
       "stream": "stdout",
       "text": [
        "\n",
        "step24599 -- accuracy is 0.123348236084"
       ]
      },
      {
       "output_type": "stream",
       "stream": "stdout",
       "text": [
        "\n",
        "step24699 -- accuracy is 0.00865936279297"
       ]
      },
      {
       "output_type": "stream",
       "stream": "stdout",
       "text": [
        "\n",
        "step24799 -- accuracy is 0.0166511535645"
       ]
      },
      {
       "output_type": "stream",
       "stream": "stdout",
       "text": [
        "\n",
        "step24899 -- accuracy is 0.0279693603516"
       ]
      },
      {
       "output_type": "stream",
       "stream": "stdout",
       "text": [
        "\n",
        "step24999 -- accuracy is 0.107177734375"
       ]
      },
      {
       "output_type": "stream",
       "stream": "stdout",
       "text": [
        "\n",
        "step25099 -- accuracy is 0.0568008422852"
       ]
      },
      {
       "output_type": "stream",
       "stream": "stdout",
       "text": [
        "\n",
        "step25199 -- accuracy is 0.00178909301758"
       ]
      },
      {
       "output_type": "stream",
       "stream": "stdout",
       "text": [
        "\n",
        "step25299 -- accuracy is 0.0788841247559"
       ]
      },
      {
       "output_type": "stream",
       "stream": "stdout",
       "text": [
        "\n",
        "step25399 -- accuracy is 0.0871696472168"
       ]
      },
      {
       "output_type": "stream",
       "stream": "stdout",
       "text": [
        "\n",
        "step25499 -- accuracy is 0.0056266784668"
       ]
      },
      {
       "output_type": "stream",
       "stream": "stdout",
       "text": [
        "\n",
        "step25599 -- accuracy is 0.0310134887695"
       ]
      },
      {
       "output_type": "stream",
       "stream": "stdout",
       "text": [
        "\n",
        "step25699 -- accuracy is 0.0688629150391"
       ]
      },
      {
       "output_type": "stream",
       "stream": "stdout",
       "text": [
        "\n",
        "step25799 -- accuracy is 0.0373039245605"
       ]
      },
      {
       "output_type": "stream",
       "stream": "stdout",
       "text": [
        "\n",
        "step25899 -- accuracy is 0.0"
       ]
      },
      {
       "output_type": "stream",
       "stream": "stdout",
       "text": [
        "\n",
        "step25999 -- accuracy is 0.142753601074"
       ]
      },
      {
       "output_type": "stream",
       "stream": "stdout",
       "text": [
        "\n",
        "step26099 -- accuracy is 0.131145477295"
       ]
      },
      {
       "output_type": "stream",
       "stream": "stdout",
       "text": [
        "\n",
        "step26199 -- accuracy is 0.000125885009766"
       ]
      },
      {
       "output_type": "stream",
       "stream": "stdout",
       "text": [
        "\n",
        "step26299 -- accuracy is 0.000343322753906"
       ]
      },
      {
       "output_type": "stream",
       "stream": "stdout",
       "text": [
        "\n",
        "step26399 -- accuracy is 0.0310211181641"
       ]
      },
      {
       "output_type": "stream",
       "stream": "stdout",
       "text": [
        "\n",
        "step26499 -- accuracy is 0.0723724365234"
       ]
      },
      {
       "output_type": "stream",
       "stream": "stdout",
       "text": [
        "\n",
        "step26599 -- accuracy is 0.0876159667969"
       ]
      },
      {
       "output_type": "stream",
       "stream": "stdout",
       "text": [
        "\n",
        "step26699 -- accuracy is 0.0961227416992"
       ]
      },
      {
       "output_type": "stream",
       "stream": "stdout",
       "text": [
        "\n",
        "step26799 -- accuracy is 0.0591049194336"
       ]
      },
      {
       "output_type": "stream",
       "stream": "stdout",
       "text": [
        "\n",
        "step26899 -- accuracy is 0.0"
       ]
      },
      {
       "output_type": "stream",
       "stream": "stdout",
       "text": [
        "\n",
        "step26999 -- accuracy is 0.016284942627"
       ]
      },
      {
       "output_type": "stream",
       "stream": "stdout",
       "text": [
        "\n",
        "step27099 -- accuracy is 0.125942230225"
       ]
      },
      {
       "output_type": "stream",
       "stream": "stdout",
       "text": [
        "\n",
        "step27199 -- accuracy is 0.0419540405273"
       ]
      },
      {
       "output_type": "stream",
       "stream": "stdout",
       "text": [
        "\n",
        "step27299 -- accuracy is 0.0877113342285"
       ]
      },
      {
       "output_type": "stream",
       "stream": "stdout",
       "text": [
        "\n",
        "step27399 -- accuracy is 0.0102005004883"
       ]
      },
      {
       "output_type": "stream",
       "stream": "stdout",
       "text": [
        "\n",
        "step27499 -- accuracy is 0.127899169922"
       ]
      },
      {
       "output_type": "stream",
       "stream": "stdout",
       "text": [
        "\n",
        "step27599 -- accuracy is 0.00779342651367"
       ]
      },
      {
       "output_type": "stream",
       "stream": "stdout",
       "text": [
        "\n",
        "step27699 -- accuracy is 0.0624084472656"
       ]
      },
      {
       "output_type": "stream",
       "stream": "stdout",
       "text": [
        "\n",
        "step27799 -- accuracy is 0.0167427062988"
       ]
      },
      {
       "output_type": "stream",
       "stream": "stdout",
       "text": [
        "\n",
        "step27899 -- accuracy is 0.0397491455078"
       ]
      },
      {
       "output_type": "stream",
       "stream": "stdout",
       "text": [
        "\n",
        "step27999 -- accuracy is 0.0731544494629"
       ]
      },
      {
       "output_type": "stream",
       "stream": "stdout",
       "text": [
        "\n",
        "step28099 -- accuracy is 0.0990829467773"
       ]
      },
      {
       "output_type": "stream",
       "stream": "stdout",
       "text": [
        "\n",
        "step28199 -- accuracy is 0.0099983215332"
       ]
      },
      {
       "output_type": "stream",
       "stream": "stdout",
       "text": [
        "\n",
        "step28299 -- accuracy is 0.0"
       ]
      },
      {
       "output_type": "stream",
       "stream": "stdout",
       "text": [
        "\n",
        "step28399 -- accuracy is 0.0357971191406"
       ]
      },
      {
       "output_type": "stream",
       "stream": "stdout",
       "text": [
        "\n",
        "step28499 -- accuracy is 0.0"
       ]
      },
      {
       "output_type": "stream",
       "stream": "stdout",
       "text": [
        "\n",
        "step28599 -- accuracy is 0.0979766845703"
       ]
      },
      {
       "output_type": "stream",
       "stream": "stdout",
       "text": [
        "\n",
        "step28699 -- accuracy is 0.0932006835938"
       ]
      },
      {
       "output_type": "stream",
       "stream": "stdout",
       "text": [
        "\n",
        "step28799 -- accuracy is 0.0939331054688"
       ]
      },
      {
       "output_type": "stream",
       "stream": "stdout",
       "text": [
        "\n",
        "step28899 -- accuracy is 0.00838851928711"
       ]
      },
      {
       "output_type": "stream",
       "stream": "stdout",
       "text": [
        "\n",
        "step28999 -- accuracy is 0.0633239746094"
       ]
      },
      {
       "output_type": "stream",
       "stream": "stdout",
       "text": [
        "\n",
        "step29099 -- accuracy is 0.0212631225586"
       ]
      },
      {
       "output_type": "stream",
       "stream": "stdout",
       "text": [
        "\n",
        "step29199 -- accuracy is 0.000518798828125"
       ]
      },
      {
       "output_type": "stream",
       "stream": "stdout",
       "text": [
        "\n",
        "step29299 -- accuracy is 0.0941848754883"
       ]
      },
      {
       "output_type": "stream",
       "stream": "stdout",
       "text": [
        "\n",
        "step29399 -- accuracy is 0.0905418395996"
       ]
      },
      {
       "output_type": "stream",
       "stream": "stdout",
       "text": [
        "\n",
        "step29499 -- accuracy is 0.0865173339844"
       ]
      },
      {
       "output_type": "stream",
       "stream": "stdout",
       "text": [
        "\n",
        "step29599 -- accuracy is 3.81469726562e-06"
       ]
      },
      {
       "output_type": "stream",
       "stream": "stdout",
       "text": [
        "\n",
        "step29699 -- accuracy is 6.103515625e-05"
       ]
      },
      {
       "output_type": "stream",
       "stream": "stdout",
       "text": [
        "\n",
        "step29799 -- accuracy is 0.0560455322266"
       ]
      },
      {
       "output_type": "stream",
       "stream": "stdout",
       "text": [
        "\n",
        "step29899 -- accuracy is 0.0939102172852"
       ]
      },
      {
       "output_type": "stream",
       "stream": "stdout",
       "text": [
        "\n",
        "step29999 -- accuracy is 0.00829315185547"
       ]
      },
      {
       "output_type": "stream",
       "stream": "stdout",
       "text": [
        "\n",
        "step30099 -- accuracy is 0.0413360595703"
       ]
      },
      {
       "output_type": "stream",
       "stream": "stdout",
       "text": [
        "\n",
        "step30199 -- accuracy is 0.130210876465"
       ]
      },
      {
       "output_type": "stream",
       "stream": "stdout",
       "text": [
        "\n",
        "step30299 -- accuracy is 0.0735549926758"
       ]
      },
      {
       "output_type": "stream",
       "stream": "stdout",
       "text": [
        "\n",
        "step30399 -- accuracy is 0.087329864502"
       ]
      },
      {
       "output_type": "stream",
       "stream": "stdout",
       "text": [
        "\n",
        "step30499 -- accuracy is 0.0988349914551"
       ]
      },
      {
       "output_type": "stream",
       "stream": "stdout",
       "text": [
        "\n",
        "step30599 -- accuracy is 0.02783203125"
       ]
      },
      {
       "output_type": "stream",
       "stream": "stdout",
       "text": [
        "\n",
        "step30699 -- accuracy is 0.0854873657227"
       ]
      },
      {
       "output_type": "stream",
       "stream": "stdout",
       "text": [
        "\n",
        "step30799 -- accuracy is 0.0"
       ]
      },
      {
       "output_type": "stream",
       "stream": "stdout",
       "text": [
        "\n",
        "step30899 -- accuracy is 0.0403327941895"
       ]
      },
      {
       "output_type": "stream",
       "stream": "stdout",
       "text": [
        "\n",
        "step30999 -- accuracy is 0.028190612793"
       ]
      },
      {
       "output_type": "stream",
       "stream": "stdout",
       "text": [
        "\n",
        "step31099 -- accuracy is 0.000198364257812"
       ]
      },
      {
       "output_type": "stream",
       "stream": "stdout",
       "text": [
        "\n",
        "step31199 -- accuracy is 0.124217987061"
       ]
      },
      {
       "output_type": "stream",
       "stream": "stdout",
       "text": [
        "\n",
        "step31299 -- accuracy is 0.0"
       ]
      },
      {
       "output_type": "stream",
       "stream": "stdout",
       "text": [
        "\n",
        "step31399 -- accuracy is 7.62939453125e-06"
       ]
      },
      {
       "output_type": "stream",
       "stream": "stdout",
       "text": [
        "\n",
        "step31499 -- accuracy is 0.00726699829102"
       ]
      },
      {
       "output_type": "stream",
       "stream": "stdout",
       "text": [
        "\n",
        "step31599 -- accuracy is 0.143379211426"
       ]
      },
      {
       "output_type": "stream",
       "stream": "stdout",
       "text": [
        "\n",
        "step31699 -- accuracy is 0.0963592529297"
       ]
      },
      {
       "output_type": "stream",
       "stream": "stdout",
       "text": [
        "\n",
        "step31799 -- accuracy is 0.1220703125"
       ]
      },
      {
       "output_type": "stream",
       "stream": "stdout",
       "text": [
        "\n",
        "step31899 -- accuracy is 0.0684585571289"
       ]
      },
      {
       "output_type": "stream",
       "stream": "stdout",
       "text": [
        "\n",
        "step31999 -- accuracy is 0.0"
       ]
      },
      {
       "output_type": "stream",
       "stream": "stdout",
       "text": [
        "\n",
        "step32099 -- accuracy is 0.0079345703125"
       ]
      },
      {
       "output_type": "stream",
       "stream": "stdout",
       "text": [
        "\n",
        "step32199 -- accuracy is 0.0196533203125"
       ]
      },
      {
       "output_type": "stream",
       "stream": "stdout",
       "text": [
        "\n",
        "step32299 -- accuracy is 0.0833473205566"
       ]
      },
      {
       "output_type": "stream",
       "stream": "stdout",
       "text": [
        "\n",
        "step32399 -- accuracy is 0.0874900817871"
       ]
      },
      {
       "output_type": "stream",
       "stream": "stdout",
       "text": [
        "\n",
        "step32499 -- accuracy is 0.0992240905762"
       ]
      },
      {
       "output_type": "stream",
       "stream": "stdout",
       "text": [
        "\n",
        "step32599 -- accuracy is 0.0756492614746"
       ]
      },
      {
       "output_type": "stream",
       "stream": "stdout",
       "text": [
        "\n",
        "step32699 -- accuracy is 0.0141334533691"
       ]
      },
      {
       "output_type": "stream",
       "stream": "stdout",
       "text": [
        "\n",
        "step32799 -- accuracy is 0.0"
       ]
      },
      {
       "output_type": "stream",
       "stream": "stdout",
       "text": [
        "\n",
        "step32899 -- accuracy is 0.0755233764648"
       ]
      },
      {
       "output_type": "stream",
       "stream": "stdout",
       "text": [
        "\n",
        "step32999 -- accuracy is 0.0746383666992"
       ]
      },
      {
       "output_type": "stream",
       "stream": "stdout",
       "text": [
        "\n",
        "step33099 -- accuracy is 0.0"
       ]
      },
      {
       "output_type": "stream",
       "stream": "stdout",
       "text": [
        "\n",
        "step33199 -- accuracy is 0.00237655639648"
       ]
      },
      {
       "output_type": "stream",
       "stream": "stdout",
       "text": [
        "\n",
        "step33299 -- accuracy is 0.0467185974121"
       ]
      },
      {
       "output_type": "stream",
       "stream": "stdout",
       "text": [
        "\n",
        "step33399 -- accuracy is 0.00212097167969"
       ]
      },
      {
       "output_type": "stream",
       "stream": "stdout",
       "text": [
        "\n",
        "step33499 -- accuracy is 0.0504989624023"
       ]
      },
      {
       "output_type": "stream",
       "stream": "stdout",
       "text": [
        "\n",
        "step33599 -- accuracy is 0.119644165039"
       ]
      },
      {
       "output_type": "stream",
       "stream": "stdout",
       "text": [
        "\n",
        "step33699 -- accuracy is 0.0403900146484"
       ]
      },
      {
       "output_type": "stream",
       "stream": "stdout",
       "text": [
        "\n",
        "step33799 -- accuracy is 0.0"
       ]
      },
      {
       "output_type": "stream",
       "stream": "stdout",
       "text": [
        "\n",
        "step33899 -- accuracy is 0.0821800231934"
       ]
      },
      {
       "output_type": "stream",
       "stream": "stdout",
       "text": [
        "\n",
        "step33999 -- accuracy is 0.0865898132324"
       ]
      },
      {
       "output_type": "stream",
       "stream": "stdout",
       "text": [
        "\n",
        "step34099 -- accuracy is 0.0750465393066"
       ]
      },
      {
       "output_type": "stream",
       "stream": "stdout",
       "text": [
        "\n",
        "step34199 -- accuracy is 0.00996398925781"
       ]
      },
      {
       "output_type": "stream",
       "stream": "stdout",
       "text": [
        "\n",
        "step34299 -- accuracy is 0.00916290283203"
       ]
      },
      {
       "output_type": "stream",
       "stream": "stdout",
       "text": [
        "\n",
        "step34399 -- accuracy is 0.0883827209473"
       ]
      },
      {
       "output_type": "stream",
       "stream": "stdout",
       "text": [
        "\n",
        "step34499 -- accuracy is 0.0581092834473"
       ]
      },
      {
       "output_type": "stream",
       "stream": "stdout",
       "text": [
        "\n",
        "step34599 -- accuracy is 0.00851440429688"
       ]
      },
      {
       "output_type": "stream",
       "stream": "stdout",
       "text": [
        "\n",
        "step34699 -- accuracy is 0.0375747680664"
       ]
      },
      {
       "output_type": "stream",
       "stream": "stdout",
       "text": [
        "\n",
        "step34799 -- accuracy is 0.0874977111816"
       ]
      },
      {
       "output_type": "stream",
       "stream": "stdout",
       "text": [
        "\n",
        "step34899 -- accuracy is 0.0514793395996"
       ]
      },
      {
       "output_type": "stream",
       "stream": "stdout",
       "text": [
        "\n",
        "step34999 -- accuracy is 0.0136528015137"
       ]
      },
      {
       "output_type": "stream",
       "stream": "stdout",
       "text": [
        "\n",
        "step35099 -- accuracy is 0.0132522583008"
       ]
      },
      {
       "output_type": "stream",
       "stream": "stdout",
       "text": [
        "\n",
        "step35199 -- accuracy is 0.0"
       ]
      },
      {
       "output_type": "stream",
       "stream": "stdout",
       "text": [
        "\n",
        "step35299 -- accuracy is 0.0973243713379"
       ]
      },
      {
       "output_type": "stream",
       "stream": "stdout",
       "text": [
        "\n",
        "step35399 -- accuracy is 0.0506362915039"
       ]
      },
      {
       "output_type": "stream",
       "stream": "stdout",
       "text": [
        "\n",
        "step35499 -- accuracy is 0.0545082092285"
       ]
      },
      {
       "output_type": "stream",
       "stream": "stdout",
       "text": [
        "\n",
        "step35599 -- accuracy is 0.00777053833008"
       ]
      },
      {
       "output_type": "stream",
       "stream": "stdout",
       "text": [
        "\n",
        "step35699 -- accuracy is 0.0"
       ]
      },
      {
       "output_type": "stream",
       "stream": "stdout",
       "text": [
        "\n",
        "step35799 -- accuracy is 0.0745849609375"
       ]
      },
      {
       "output_type": "stream",
       "stream": "stdout",
       "text": [
        "\n",
        "step35899 -- accuracy is 0.116817474365"
       ]
      },
      {
       "output_type": "stream",
       "stream": "stdout",
       "text": [
        "\n",
        "step35999 -- accuracy is 0.132915496826"
       ]
      },
      {
       "output_type": "stream",
       "stream": "stdout",
       "text": [
        "\n",
        "step36099 -- accuracy is 0.0561332702637"
       ]
      },
      {
       "output_type": "stream",
       "stream": "stdout",
       "text": [
        "\n",
        "step36199 -- accuracy is 0.0"
       ]
      },
      {
       "output_type": "stream",
       "stream": "stdout",
       "text": [
        "\n",
        "step36299 -- accuracy is 0.0218200683594"
       ]
      },
      {
       "output_type": "stream",
       "stream": "stdout",
       "text": [
        "\n",
        "step36399 -- accuracy is 0.0271492004395"
       ]
      },
      {
       "output_type": "stream",
       "stream": "stdout",
       "text": [
        "\n",
        "step36499 -- accuracy is 0.0872268676758"
       ]
      },
      {
       "output_type": "stream",
       "stream": "stdout",
       "text": [
        "\n",
        "step36599 -- accuracy is 0.084644317627"
       ]
      },
      {
       "output_type": "stream",
       "stream": "stdout",
       "text": [
        "\n",
        "step36699 -- accuracy is 0.0670051574707"
       ]
      },
      {
       "output_type": "stream",
       "stream": "stdout",
       "text": [
        "\n",
        "step36799 -- accuracy is 0.0517120361328"
       ]
      },
      {
       "output_type": "stream",
       "stream": "stdout",
       "text": [
        "\n",
        "step36899 -- accuracy is 0.0"
       ]
      },
      {
       "output_type": "stream",
       "stream": "stdout",
       "text": [
        "\n",
        "step36999 -- accuracy is 0.121795654297"
       ]
      },
      {
       "output_type": "stream",
       "stream": "stdout",
       "text": [
        "\n",
        "step37099 -- accuracy is 0.143650054932"
       ]
      },
      {
       "output_type": "stream",
       "stream": "stdout",
       "text": [
        "\n",
        "step37199 -- accuracy is 0.0998611450195"
       ]
      },
      {
       "output_type": "stream",
       "stream": "stdout",
       "text": [
        "\n",
        "step37299 -- accuracy is 0.0619697570801"
       ]
      },
      {
       "output_type": "stream",
       "stream": "stdout",
       "text": [
        "\n",
        "step37399 -- accuracy is 0.0671577453613"
       ]
      },
      {
       "output_type": "stream",
       "stream": "stdout",
       "text": [
        "\n",
        "step37499 -- accuracy is 0.0994567871094"
       ]
      },
      {
       "output_type": "stream",
       "stream": "stdout",
       "text": [
        "\n",
        "step37599 -- accuracy is 0.056510925293"
       ]
      },
      {
       "output_type": "stream",
       "stream": "stdout",
       "text": [
        "\n",
        "step37699 -- accuracy is 2.28881835938e-05"
       ]
      },
      {
       "output_type": "stream",
       "stream": "stdout",
       "text": [
        "\n",
        "step37799 -- accuracy is 0.0555839538574"
       ]
      },
      {
       "output_type": "stream",
       "stream": "stdout",
       "text": [
        "\n",
        "step37899 -- accuracy is 0.00548553466797"
       ]
      },
      {
       "output_type": "stream",
       "stream": "stdout",
       "text": [
        "\n",
        "step37999 -- accuracy is 0.00576019287109"
       ]
      },
      {
       "output_type": "stream",
       "stream": "stdout",
       "text": [
        "\n",
        "step38099 -- accuracy is 0.0287322998047"
       ]
      },
      {
       "output_type": "stream",
       "stream": "stdout",
       "text": [
        "\n",
        "step38199 -- accuracy is 0.0453834533691"
       ]
      },
      {
       "output_type": "stream",
       "stream": "stdout",
       "text": [
        "\n",
        "step38299 -- accuracy is 0.0981369018555"
       ]
      },
      {
       "output_type": "stream",
       "stream": "stdout",
       "text": [
        "\n",
        "step38399 -- accuracy is 0.0978736877441"
       ]
      },
      {
       "output_type": "stream",
       "stream": "stdout",
       "text": [
        "\n",
        "step38499 -- accuracy is 0.0187683105469"
       ]
      },
      {
       "output_type": "stream",
       "stream": "stdout",
       "text": [
        "\n",
        "step38599 -- accuracy is 0.033332824707"
       ]
      },
      {
       "output_type": "stream",
       "stream": "stdout",
       "text": [
        "\n",
        "step38699 -- accuracy is 0.000801086425781"
       ]
      },
      {
       "output_type": "stream",
       "stream": "stdout",
       "text": [
        "\n",
        "step38799 -- accuracy is 0.095947265625"
       ]
      },
      {
       "output_type": "stream",
       "stream": "stdout",
       "text": [
        "\n",
        "step38899 -- accuracy is 0.0707359313965"
       ]
      },
      {
       "output_type": "stream",
       "stream": "stdout",
       "text": [
        "\n",
        "step38999 -- accuracy is 0.0656280517578"
       ]
      },
      {
       "output_type": "stream",
       "stream": "stdout",
       "text": [
        "\n",
        "step39099 -- accuracy is 0.0962066650391"
       ]
      },
      {
       "output_type": "stream",
       "stream": "stdout",
       "text": [
        "\n",
        "step39199 -- accuracy is 0.0338134765625"
       ]
      },
      {
       "output_type": "stream",
       "stream": "stdout",
       "text": [
        "\n",
        "step39299 -- accuracy is 0.0884628295898"
       ]
      },
      {
       "output_type": "stream",
       "stream": "stdout",
       "text": [
        "\n",
        "step39399 -- accuracy is 0.0181427001953"
       ]
      },
      {
       "output_type": "stream",
       "stream": "stdout",
       "text": [
        "\n",
        "step39499 -- accuracy is 0.0664443969727"
       ]
      },
      {
       "output_type": "stream",
       "stream": "stdout",
       "text": [
        "\n",
        "step39599 -- accuracy is 0.074462890625"
       ]
      },
      {
       "output_type": "stream",
       "stream": "stdout",
       "text": [
        "\n",
        "step39699 -- accuracy is 0.0875053405762"
       ]
      },
      {
       "output_type": "stream",
       "stream": "stdout",
       "text": [
        "\n",
        "step39799 -- accuracy is 0.000808715820312"
       ]
      },
      {
       "output_type": "stream",
       "stream": "stdout",
       "text": [
        "\n",
        "step39899 -- accuracy is 0.077522277832"
       ]
      },
      {
       "output_type": "stream",
       "stream": "stdout",
       "text": [
        "\n",
        "step39999 -- accuracy is 0.0207557678223"
       ]
      },
      {
       "output_type": "stream",
       "stream": "stdout",
       "text": [
        "\n",
        "step40099 -- accuracy is 0.0"
       ]
      },
      {
       "output_type": "stream",
       "stream": "stdout",
       "text": [
        "\n",
        "step40199 -- accuracy is 0.0626678466797"
       ]
      },
      {
       "output_type": "stream",
       "stream": "stdout",
       "text": [
        "\n",
        "step40299 -- accuracy is 0.0"
       ]
      },
      {
       "output_type": "stream",
       "stream": "stdout",
       "text": [
        "\n",
        "step40399 -- accuracy is 0.0465126037598"
       ]
      },
      {
       "output_type": "stream",
       "stream": "stdout",
       "text": [
        "\n",
        "step40499 -- accuracy is 0.0998191833496"
       ]
      },
      {
       "output_type": "stream",
       "stream": "stdout",
       "text": [
        "\n",
        "step40599 -- accuracy is 0.0857734680176"
       ]
      },
      {
       "output_type": "stream",
       "stream": "stdout",
       "text": [
        "\n",
        "step40699 -- accuracy is 0.0923843383789"
       ]
      },
      {
       "output_type": "stream",
       "stream": "stdout",
       "text": [
        "\n",
        "step40799 -- accuracy is 0.085636138916"
       ]
      },
      {
       "output_type": "stream",
       "stream": "stdout",
       "text": [
        "\n",
        "step40899 -- accuracy is 0.0100517272949"
       ]
      },
      {
       "output_type": "stream",
       "stream": "stdout",
       "text": [
        "\n",
        "step40999 -- accuracy is 0.0250015258789"
       ]
      },
      {
       "output_type": "stream",
       "stream": "stdout",
       "text": [
        "\n",
        "step41099 -- accuracy is 0.131015777588"
       ]
      },
      {
       "output_type": "stream",
       "stream": "stdout",
       "text": [
        "\n",
        "step41199 -- accuracy is 0.148349761963"
       ]
      },
      {
       "output_type": "stream",
       "stream": "stdout",
       "text": [
        "\n",
        "step41299 -- accuracy is 3.81469726562e-06"
       ]
      },
      {
       "output_type": "stream",
       "stream": "stdout",
       "text": [
        "\n",
        "step41399 -- accuracy is 0.0565643310547"
       ]
      },
      {
       "output_type": "stream",
       "stream": "stdout",
       "text": [
        "\n",
        "step41499 -- accuracy is 0.0980987548828"
       ]
      },
      {
       "output_type": "stream",
       "stream": "stdout",
       "text": [
        "\n",
        "step41599 -- accuracy is 0.0068473815918"
       ]
      },
      {
       "output_type": "stream",
       "stream": "stdout",
       "text": [
        "\n",
        "step41699 -- accuracy is 0.093921661377"
       ]
      },
      {
       "output_type": "stream",
       "stream": "stdout",
       "text": [
        "\n",
        "step41799 -- accuracy is 0.0008544921875"
       ]
      },
      {
       "output_type": "stream",
       "stream": "stdout",
       "text": [
        "\n",
        "step41899 -- accuracy is 0.096305847168"
       ]
      },
      {
       "output_type": "stream",
       "stream": "stdout",
       "text": [
        "\n",
        "step41999 -- accuracy is 0.0988464355469"
       ]
      },
      {
       "output_type": "stream",
       "stream": "stdout",
       "text": [
        "\n",
        "step42099 -- accuracy is 0.0745468139648"
       ]
      },
      {
       "output_type": "stream",
       "stream": "stdout",
       "text": [
        "\n",
        "step42199 -- accuracy is 0.0981979370117"
       ]
      },
      {
       "output_type": "stream",
       "stream": "stdout",
       "text": [
        "\n",
        "step42299 -- accuracy is 0.0161590576172"
       ]
      },
      {
       "output_type": "stream",
       "stream": "stdout",
       "text": [
        "\n",
        "step42399 -- accuracy is 0.126159667969"
       ]
      },
      {
       "output_type": "stream",
       "stream": "stdout",
       "text": [
        "\n",
        "step42499 -- accuracy is 0.0183525085449"
       ]
      },
      {
       "output_type": "stream",
       "stream": "stdout",
       "text": [
        "\n",
        "step42599 -- accuracy is 0.100219726562"
       ]
      },
      {
       "output_type": "stream",
       "stream": "stdout",
       "text": [
        "\n",
        "step42699 -- accuracy is 0.0165710449219"
       ]
      },
      {
       "output_type": "stream",
       "stream": "stdout",
       "text": [
        "\n",
        "step42799 -- accuracy is 0.00819778442383"
       ]
      },
      {
       "output_type": "stream",
       "stream": "stdout",
       "text": [
        "\n",
        "step42899 -- accuracy is 0.00915145874023"
       ]
      },
      {
       "output_type": "stream",
       "stream": "stdout",
       "text": [
        "\n",
        "step42999 -- accuracy is 0.0"
       ]
      },
      {
       "output_type": "stream",
       "stream": "stdout",
       "text": [
        "\n",
        "step43099 -- accuracy is 0.0988578796387"
       ]
      },
      {
       "output_type": "stream",
       "stream": "stdout",
       "text": [
        "\n",
        "step43199 -- accuracy is 0.0660285949707"
       ]
      },
      {
       "output_type": "stream",
       "stream": "stdout",
       "text": [
        "\n",
        "step43299 -- accuracy is 0.000316619873047"
       ]
      },
      {
       "output_type": "stream",
       "stream": "stdout",
       "text": [
        "\n",
        "step43399 -- accuracy is 0.0217170715332"
       ]
      },
      {
       "output_type": "stream",
       "stream": "stdout",
       "text": [
        "\n",
        "step43499 -- accuracy is 0.0"
       ]
      },
      {
       "output_type": "stream",
       "stream": "stdout",
       "text": [
        "\n",
        "step43599 -- accuracy is 0.00244522094727"
       ]
      },
      {
       "output_type": "stream",
       "stream": "stdout",
       "text": [
        "\n",
        "step43699 -- accuracy is 0.000198364257812"
       ]
      },
      {
       "output_type": "stream",
       "stream": "stdout",
       "text": [
        "\n",
        "step43799 -- accuracy is 0.069091796875"
       ]
      },
      {
       "output_type": "stream",
       "stream": "stdout",
       "text": [
        "\n",
        "step43899 -- accuracy is 0.060546875"
       ]
      },
      {
       "output_type": "stream",
       "stream": "stdout",
       "text": [
        "\n",
        "step43999 -- accuracy is 0.0588722229004"
       ]
      },
      {
       "output_type": "stream",
       "stream": "stdout",
       "text": [
        "\n",
        "step44099 -- accuracy is 0.0859451293945"
       ]
      },
      {
       "output_type": "stream",
       "stream": "stdout",
       "text": [
        "\n",
        "step44199 -- accuracy is 0.0209197998047"
       ]
      },
      {
       "output_type": "stream",
       "stream": "stdout",
       "text": [
        "\n",
        "step44299 -- accuracy is 0.00940322875977"
       ]
      },
      {
       "output_type": "stream",
       "stream": "stdout",
       "text": [
        "\n",
        "step44399 -- accuracy is 0.0584754943848"
       ]
      },
      {
       "output_type": "stream",
       "stream": "stdout",
       "text": [
        "\n",
        "step44499 -- accuracy is 0.00293731689453"
       ]
      },
      {
       "output_type": "stream",
       "stream": "stdout",
       "text": [
        "\n",
        "step44599 -- accuracy is 0.00333023071289"
       ]
      },
      {
       "output_type": "stream",
       "stream": "stdout",
       "text": [
        "\n",
        "step44699 -- accuracy is 0.0978202819824"
       ]
      },
      {
       "output_type": "stream",
       "stream": "stdout",
       "text": [
        "\n",
        "step44799 -- accuracy is 0.0182991027832"
       ]
      },
      {
       "output_type": "stream",
       "stream": "stdout",
       "text": [
        "\n",
        "step44899 -- accuracy is 0.00461578369141"
       ]
      },
      {
       "output_type": "stream",
       "stream": "stdout",
       "text": [
        "\n",
        "step44999 -- accuracy is 0.0959663391113"
       ]
      },
      {
       "output_type": "stream",
       "stream": "stdout",
       "text": [
        "\n",
        "step45099 -- accuracy is 0.0588989257812"
       ]
      },
      {
       "output_type": "stream",
       "stream": "stdout",
       "text": [
        "\n",
        "step45199 -- accuracy is 0.0"
       ]
      },
      {
       "output_type": "stream",
       "stream": "stdout",
       "text": [
        "\n",
        "step45299 -- accuracy is 0.0564155578613"
       ]
      },
      {
       "output_type": "stream",
       "stream": "stdout",
       "text": [
        "\n",
        "step45399 -- accuracy is 0.0186920166016"
       ]
      },
      {
       "output_type": "stream",
       "stream": "stdout",
       "text": [
        "\n",
        "step45499 -- accuracy is 0.0324249267578"
       ]
      },
      {
       "output_type": "stream",
       "stream": "stdout",
       "text": [
        "\n",
        "step45599 -- accuracy is 0.0216064453125"
       ]
      },
      {
       "output_type": "stream",
       "stream": "stdout",
       "text": [
        "\n",
        "step45699 -- accuracy is 0.0400810241699"
       ]
      },
      {
       "output_type": "stream",
       "stream": "stdout",
       "text": [
        "\n",
        "step45799 -- accuracy is 0.0"
       ]
      },
      {
       "output_type": "stream",
       "stream": "stdout",
       "text": [
        "\n",
        "step45899 -- accuracy is 0.0102577209473"
       ]
      },
      {
       "output_type": "stream",
       "stream": "stdout",
       "text": [
        "\n",
        "step45999 -- accuracy is 0.0024528503418"
       ]
      },
      {
       "output_type": "stream",
       "stream": "stdout",
       "text": [
        "\n",
        "step46099 -- accuracy is 0.0449676513672"
       ]
      },
      {
       "output_type": "stream",
       "stream": "stdout",
       "text": [
        "\n",
        "step46199 -- accuracy is 0.127708435059"
       ]
      },
      {
       "output_type": "stream",
       "stream": "stdout",
       "text": [
        "\n",
        "step46299 -- accuracy is 0.0935249328613"
       ]
      },
      {
       "output_type": "stream",
       "stream": "stdout",
       "text": [
        "\n",
        "step46399 -- accuracy is 0.0"
       ]
      },
      {
       "output_type": "stream",
       "stream": "stdout",
       "text": [
        "\n",
        "step46499 -- accuracy is 0.10778427124"
       ]
      },
      {
       "output_type": "stream",
       "stream": "stdout",
       "text": [
        "\n",
        "step46599 -- accuracy is 0.0111961364746"
       ]
      },
      {
       "output_type": "stream",
       "stream": "stdout",
       "text": [
        "\n",
        "step46699 -- accuracy is 0.00735092163086"
       ]
      },
      {
       "output_type": "stream",
       "stream": "stdout",
       "text": [
        "\n",
        "step46799 -- accuracy is 0.0939598083496"
       ]
      },
      {
       "output_type": "stream",
       "stream": "stdout",
       "text": [
        "\n",
        "step46899 -- accuracy is 0.0561027526855"
       ]
      },
      {
       "output_type": "stream",
       "stream": "stdout",
       "text": [
        "\n",
        "step46999 -- accuracy is 0.051570892334"
       ]
      },
      {
       "output_type": "stream",
       "stream": "stdout",
       "text": [
        "\n",
        "step47099 -- accuracy is 0.0981063842773"
       ]
      },
      {
       "output_type": "stream",
       "stream": "stdout",
       "text": [
        "\n",
        "step47199 -- accuracy is 0.099853515625"
       ]
      },
      {
       "output_type": "stream",
       "stream": "stdout",
       "text": [
        "\n",
        "step47299 -- accuracy is 0.0"
       ]
      },
      {
       "output_type": "stream",
       "stream": "stdout",
       "text": [
        "\n",
        "step47399 -- accuracy is 0.0443420410156"
       ]
      },
      {
       "output_type": "stream",
       "stream": "stdout",
       "text": [
        "\n",
        "step47499 -- accuracy is 3.81469726562e-06"
       ]
      },
      {
       "output_type": "stream",
       "stream": "stdout",
       "text": [
        "\n",
        "step47599 -- accuracy is 0.0742835998535"
       ]
      },
      {
       "output_type": "stream",
       "stream": "stdout",
       "text": [
        "\n",
        "step47699 -- accuracy is 0.0"
       ]
      },
      {
       "output_type": "stream",
       "stream": "stdout",
       "text": [
        "\n",
        "step47799 -- accuracy is 0.0181045532227"
       ]
      },
      {
       "output_type": "stream",
       "stream": "stdout",
       "text": [
        "\n",
        "step47899 -- accuracy is 0.0720672607422"
       ]
      },
      {
       "output_type": "stream",
       "stream": "stdout",
       "text": [
        "\n",
        "step47999 -- accuracy is 0.0418434143066"
       ]
      },
      {
       "output_type": "stream",
       "stream": "stdout",
       "text": [
        "\n",
        "step48099 -- accuracy is 0.0721321105957"
       ]
      },
      {
       "output_type": "stream",
       "stream": "stdout",
       "text": [
        "\n",
        "step48199 -- accuracy is 0.0720443725586"
       ]
      },
      {
       "output_type": "stream",
       "stream": "stdout",
       "text": [
        "\n",
        "step48299 -- accuracy is 0.120471954346"
       ]
      },
      {
       "output_type": "stream",
       "stream": "stdout",
       "text": [
        "\n",
        "step48399 -- accuracy is 0.00994491577148"
       ]
      },
      {
       "output_type": "stream",
       "stream": "stdout",
       "text": [
        "\n",
        "step48499 -- accuracy is 0.108421325684"
       ]
      },
      {
       "output_type": "stream",
       "stream": "stdout",
       "text": [
        "\n",
        "step48599 -- accuracy is 0.0418891906738"
       ]
      },
      {
       "output_type": "stream",
       "stream": "stdout",
       "text": [
        "\n",
        "step48699 -- accuracy is 0.0937957763672"
       ]
      },
      {
       "output_type": "stream",
       "stream": "stdout",
       "text": [
        "\n",
        "step48799 -- accuracy is 0.0101585388184"
       ]
      },
      {
       "output_type": "stream",
       "stream": "stdout",
       "text": [
        "\n",
        "step48899 -- accuracy is 0.0453491210938"
       ]
      },
      {
       "output_type": "stream",
       "stream": "stdout",
       "text": [
        "\n",
        "step48999 -- accuracy is 0.0"
       ]
      },
      {
       "output_type": "stream",
       "stream": "stdout",
       "text": [
        "\n",
        "step49099 -- accuracy is 0.106304168701"
       ]
      },
      {
       "output_type": "stream",
       "stream": "stdout",
       "text": [
        "\n",
        "step49199 -- accuracy is 0.0533142089844"
       ]
      },
      {
       "output_type": "stream",
       "stream": "stdout",
       "text": [
        "\n",
        "step49299 -- accuracy is 0.0"
       ]
      },
      {
       "output_type": "stream",
       "stream": "stdout",
       "text": [
        "\n",
        "step49399 -- accuracy is 0.140338897705"
       ]
      },
      {
       "output_type": "stream",
       "stream": "stdout",
       "text": [
        "\n",
        "step49499 -- accuracy is 0.0103225708008"
       ]
      },
      {
       "output_type": "stream",
       "stream": "stdout",
       "text": [
        "\n",
        "step49599 -- accuracy is 0.0877647399902"
       ]
      },
      {
       "output_type": "stream",
       "stream": "stdout",
       "text": [
        "\n",
        "step49699 -- accuracy is 0.0322151184082"
       ]
      },
      {
       "output_type": "stream",
       "stream": "stdout",
       "text": [
        "\n",
        "step49799 -- accuracy is 0.0963668823242"
       ]
      },
      {
       "output_type": "stream",
       "stream": "stdout",
       "text": [
        "\n",
        "step49899 -- accuracy is 0.00876998901367"
       ]
      },
      {
       "output_type": "stream",
       "stream": "stdout",
       "text": [
        "\n",
        "step49999 -- accuracy is 0.0855903625488"
       ]
      },
      {
       "output_type": "stream",
       "stream": "stdout",
       "text": [
        "\n",
        "Model saved in file: checkpoint/tmp.ckpt"
       ]
      },
      {
       "output_type": "stream",
       "stream": "stdout",
       "text": [
        "\n"
       ]
      },
      {
       "metadata": {},
       "output_type": "display_data",
       "png": "[encoded data removed]",
       "text": [
        "<matplotlib.figure.Figure at 0x7fbdc43a9f90>"
       ]
      }
     ],
     "prompt_number": 4
    },
    {
     "cell_type": "code",
     "collapsed": false,
     "input": [
      "ss = score.eval(session = sess,feed_dict = {data: batch_xs,label: batch_ys})\n",
      "ss2 = ss.reshape(-1,512,512)\n",
      "truth = batch_ys.reshape(512,512)\n",
      "show_image(ss2[0],truth)"
     ],
     "language": "python",
     "metadata": {},
     "outputs": [
      {
       "metadata": {},
       "output_type": "display_data",
       "png": "[encoded data removed]",
       "text": [
        "<matplotlib.figure.Figure at 0x7fbd803f3690>"
       ]
      }
     ],
     "prompt_number": 11
    },
    {
     "cell_type": "code",
     "collapsed": false,
     "input": [],
     "language": "python",
     "metadata": {},
     "outputs": [],
     "prompt_number": 16
    },
    {
     "cell_type": "code",
     "collapsed": false,
     "input": [],
     "language": "python",
     "metadata": {},
     "outputs": []
    }
   ],
   "metadata": {}
  }
 ]
}